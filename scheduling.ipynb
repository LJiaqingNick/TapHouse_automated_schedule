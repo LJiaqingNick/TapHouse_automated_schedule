{
 "cells": [
  {
   "cell_type": "code",
   "execution_count": 1,
   "id": "3bb4c313",
   "metadata": {},
   "outputs": [],
   "source": [
    "import random\n",
    "from datetime import date\n",
    "import numpy as np\n",
    "import pandas as pd\n",
    "from ortools.sat.python import cp_model"
   ]
  },
  {
   "cell_type": "code",
   "execution_count": 2,
   "id": "a927e73e",
   "metadata": {},
   "outputs": [],
   "source": [
    "# Constants\n",
    "DAYS = 7\n",
    "WEEKDAYS_DICTIONARY = {0 : \"Sun\", 1 : \"Mon\", 2 : \"Tue\", 3 : \"Wed\", \\\n",
    "                       4 : \"Thu\", 5 : \"Fri\", 6 : \"Sat\"}\n",
    "SHIFTS = 2\n",
    "SHIFTS_DICTIONARY = {0 : \"AM\", 1 : \"PM\"}\n",
    "PART_TIME_SHIFTS_AT_MOST = 3\n",
    "PART_TIME_SHIFTS_AT_LEAST = 2\n",
    "FULL_TIME_SHIFTS_AT_MOST = 6\n",
    "FULL_TIME_SHIFTS_AT_LEAST = 4\n",
    "EXCEL_NAME = \"bartender.xlsx\""
   ]
  },
  {
   "cell_type": "code",
   "execution_count": 3,
   "id": "b02974a2",
   "metadata": {},
   "outputs": [],
   "source": [
    "# Read the Excel\n",
    "preferences = pd.read_excel(EXCEL_NAME, \"Preferences\")\n",
    "number_employee_shifts = pd.read_excel(EXCEL_NAME, \"Shifts Requirement\")\n",
    "employees = preferences[\"Employee Name\"].last_valid_index() + 1\n",
    "part_time = pd.read_excel(EXCEL_NAME, \"Part Time\")"
   ]
  },
  {
   "cell_type": "code",
   "execution_count": 4,
   "id": "740afda8",
   "metadata": {},
   "outputs": [],
   "source": [
    "# Make a dictionary that every employee's index is the key, value is 0 or 1, 0 means not part time, 1 is part time\n",
    "is_part_time = {}\n",
    "for e in range(employees):\n",
    "    if part_time.iat[e, 1].lower() == \"yes\":\n",
    "        is_part_time[e] = 1\n",
    "    else:\n",
    "        is_part_time[e] = 0"
   ]
  },
  {
   "cell_type": "code",
   "execution_count": 5,
   "id": "5a5a9671",
   "metadata": {},
   "outputs": [],
   "source": [
    "# Make preference matrix\n",
    "prefer_value = [[[0 for s in range(SHIFTS)] for d in range(DAYS)] for e in range(employees)]\n",
    "\n",
    "for e in range(employees):\n",
    "    count = 1\n",
    "    while count <= (DAYS * SHIFTS):\n",
    "        d = (count -1) // SHIFTS\n",
    "        s = (count -1) % SHIFTS\n",
    "        prefer_value[e][d][s] = preferences.iat[e, count]\n",
    "        count += 1"
   ]
  },
  {
   "cell_type": "code",
   "execution_count": 6,
   "id": "d06f5a67",
   "metadata": {},
   "outputs": [],
   "source": [
    "# Each shift require different number of employees, so below is requirement matrix\n",
    "shifts_requirement = [[0 for s in range(SHIFTS)] for d in range(DAYS)]\n",
    "for d in range(DAYS):\n",
    "    for s in range(SHIFTS):\n",
    "        shifts_requirement[d][s] = number_employee_shifts.iat[s, d+1]"
   ]
  },
  {
   "cell_type": "code",
   "execution_count": 7,
   "id": "6e751bab",
   "metadata": {},
   "outputs": [],
   "source": [
    "# create instance of cp_model\n",
    "model = cp_model.CpModel()"
   ]
  },
  {
   "cell_type": "code",
   "execution_count": 8,
   "id": "5b2f2359",
   "metadata": {},
   "outputs": [],
   "source": [
    "# Assign all the shifts to x[e,d,s] e means employee, d means days, s means morning shift or evening shift\n",
    "x = {}\n",
    "for e in range(employees):\n",
    "    for d in range(DAYS):\n",
    "        for s in range(SHIFTS):\n",
    "            x[(e, d, s)] = model.NewBoolVar(\"x[%d,%d,%d]\" % (e, d, s))"
   ]
  },
  {
   "cell_type": "code",
   "execution_count": 9,
   "id": "18f244d9",
   "metadata": {},
   "outputs": [],
   "source": [
    "# Constraint 1: Each shift in a week require different number of employee\n",
    "for d in range(DAYS):\n",
    "    for s in range(SHIFTS):\n",
    "        model.Add(sum(x[e, d, s] for e in range(employees)) == shifts_requirement[d][s])"
   ]
  },
  {
   "cell_type": "code",
   "execution_count": 10,
   "id": "7a4b3318",
   "metadata": {},
   "outputs": [],
   "source": [
    "# Constraint 2: No one can work two shifts in a day\n",
    "for e in range(employees):\n",
    "    for d in range(DAYS):\n",
    "        model.Add(sum(x[e, d, s] for s in range(SHIFTS)) <= 1)"
   ]
  },
  {
   "cell_type": "code",
   "execution_count": 11,
   "id": "79636f84",
   "metadata": {},
   "outputs": [],
   "source": [
    "# Constraint 3: No one can work two consecutive shifts(avoiding today's evening shift and tomorrow's morning shift)\n",
    "for d in range(DAYS):\n",
    "    for e in range(employees):\n",
    "        for s in range(SHIFTS):\n",
    "            model.Add((x[e, d, 1] + x[e, (d+1)% DAYS, 0]) <= 1)"
   ]
  },
  {
   "cell_type": "code",
   "execution_count": 12,
   "id": "15952e9a",
   "metadata": {},
   "outputs": [],
   "source": [
    "# Constraint 4: Part time employee and full time employee have different number of shifts in a week\n",
    "for e in range(employees):\n",
    "    if is_part_time[e] == 1:\n",
    "        model.Add(sum(x[e, d, s] for d in range(DAYS) for s in range(SHIFTS)) <= PART_TIME_SHIFTS_AT_MOST)\n",
    "        model.Add(sum(x[e, d, s] for d in range(DAYS) for s in range(SHIFTS)) >= PART_TIME_SHIFTS_AT_LEAST)\n",
    "    else:\n",
    "        model.Add(sum(x[e, d, s] for d in range(DAYS) for s in range(SHIFTS)) <= FULL_TIME_SHIFTS_AT_MOST)\n",
    "        model.Add(sum(x[e, d, s] for d in range(DAYS) for s in range(SHIFTS)) >= FULL_TIME_SHIFTS_AT_LEAST)"
   ]
  },
  {
   "cell_type": "code",
   "execution_count": 13,
   "id": "1b913732",
   "metadata": {},
   "outputs": [],
   "source": [
    "# Constraint 5: Each employee at least have one shift at friday or saturday evening unless she/he don't want to\n",
    "for e in range(employees):\n",
    "    if prefer_value[e][5][1] != -50 and prefer_value[e][6][1] != -50:\n",
    "        model.Add((x[e, 5, 1] + x[e, 6, 1]) >= 1)"
   ]
  },
  {
   "cell_type": "code",
   "execution_count": 14,
   "id": "68564b06",
   "metadata": {},
   "outputs": [],
   "source": [
    "# Constraint 6: George only work at friday and saturday night.\n",
    "for e in range(employees):\n",
    "    if preferences[\"Employee Name\"][e] == \"George\":\n",
    "        model.Add(sum(x[e, d, s] for d in range(DAYS) for s in range(SHIFTS)) == 2)\n",
    "        model.Add((x[e, 5, 1] + x[e, 6, 1]) == 2)"
   ]
  },
  {
   "cell_type": "code",
   "execution_count": 15,
   "id": "7197e9e3",
   "metadata": {},
   "outputs": [],
   "source": [
    "# Objective Function find total Maximum Happy points\n",
    "model.Maximize(sum(prefer_value[e][d][s] * x[e,d,s] for e in range(employees) \\\n",
    "                   for d in range(DAYS) for s in range(SHIFTS)))"
   ]
  },
  {
   "cell_type": "code",
   "execution_count": 16,
   "id": "3911efa8",
   "metadata": {},
   "outputs": [],
   "source": [
    "# Call Solver\n",
    "solver = cp_model.CpSolver()\n",
    "status = solver.Solve(model)"
   ]
  },
  {
   "cell_type": "code",
   "execution_count": 18,
   "id": "bc821186",
   "metadata": {},
   "outputs": [],
   "source": [
    "# Output schedule to excel\n",
    "schedule = {\"%s %s\" % (WEEKDAYS_DICTIONARY[d], SHIFTS_DICTIONARY[s]) : [] for d in range(DAYS) for s in range(SHIFTS)}\n",
    "if status == cp_model.OPTIMAL:\n",
    "    for e in range(employees):\n",
    "        for d in range(DAYS):\n",
    "            for s in range(SHIFTS):\n",
    "                if solver.Value(x[e, d, s]) == 1 and prefer_value[e][d][s] == -50:\n",
    "                    schedule[f\"{WEEKDAYS_DICTIONARY[d]} {SHIFTS_DICTIONARY[s]}\"].append(preferences[\"Employee Name\"][e] + \"(X)\")\n",
    "                elif solver.Value(x[e, d, s]) == 1:\n",
    "                    schedule[f\"{WEEKDAYS_DICTIONARY[d]} {SHIFTS_DICTIONARY[s]}\"].append(preferences[\"Employee Name\"][e])\n",
    "                else:\n",
    "                    schedule[f\"{WEEKDAYS_DICTIONARY[d]} {SHIFTS_DICTIONARY[s]}\"].append(\"-\")\n",
    "    df = pd.DataFrame(schedule, index=preferences[\"Employee Name\"])\n",
    "    df.to_excel(\"TapHouse_Optimal_schedule.xlsx\", freeze_panes=(1, 0))\n",
    "else:\n",
    "    print(\"No optimal schedule found\")"
   ]
  },
  {
   "cell_type": "code",
   "execution_count": null,
   "id": "16071bb9",
   "metadata": {},
   "outputs": [],
   "source": []
  }
 ],
 "metadata": {
  "kernelspec": {
   "display_name": "Python 3 (ipykernel)",
   "language": "python",
   "name": "python3"
  },
  "language_info": {
   "codemirror_mode": {
    "name": "ipython",
    "version": 3
   },
   "file_extension": ".py",
   "mimetype": "text/x-python",
   "name": "python",
   "nbconvert_exporter": "python",
   "pygments_lexer": "ipython3",
   "version": "3.9.7"
  }
 },
 "nbformat": 4,
 "nbformat_minor": 5
}
